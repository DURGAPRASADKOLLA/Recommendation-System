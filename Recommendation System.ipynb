{
 "cells": [
  {
   "cell_type": "code",
   "execution_count": 11,
   "id": "5d74b081-f938-4199-affc-abe95cd63da8",
   "metadata": {},
   "outputs": [
    {
     "name": "stdout",
     "output_type": "stream",
     "text": [
      "RMSE on known ratings: 1.6732\n",
      "Top recommendations for user_5:\n",
      "movie_name\n",
      "Haider             1.168361\n",
      "Dor                1.113612\n",
      "Soorarai Pottru    1.103658\n",
      "Hindi Medium       1.029001\n",
      "Nayakan            0.870474\n",
      "Name: user_5, dtype: float64\n"
     ]
    }
   ],
   "source": [
    "# Step 1: Import Libraries\n",
    "\n",
    "import pandas as pd\n",
    "import numpy as np\n",
    "from sklearn.metrics import mean_squared_error\n",
    "from math import sqrt\n",
    "import random\n",
    "\n",
    "# Step 2: Load Movie Data\n",
    "movies_df = pd.read_csv(\"Indian_movies.csv\")\n",
    "movie_list = movies_df[\"Movie Names\"].dropna().unique().tolist()\n",
    "\n",
    "# Step 3: Generate Synthetic User Ratings\n",
    "random.seed(42)\n",
    "user_ids = [f\"user_{i}\" for i in range(1, 21)]\n",
    "ratings = []\n",
    "for user in user_ids:\n",
    "    rated_movies = random.sample(movie_list, k=random.randint(10, 20))\n",
    "    for movie in rated_movies:\n",
    "        rating = round(random.uniform(6, 10), 1)\n",
    "        ratings.append([user, movie, rating])\n",
    "ratings_df = pd.DataFrame(ratings, columns=[\"user_id\", \"movie_name\", \"rating\"])\n",
    "ratings_df.head()\n",
    "\n",
    "# Step 4: Create User-Item Matrix\n",
    "user_item_matrix = ratings_df.pivot_table(index='user_id', columns='movie_name', values='rating').fillna(0)\n",
    "user_item_matrix.head()\n",
    "\n",
    "# Step 5: Apply SVD (Matrix Factorization)\n",
    "from numpy.linalg import svd\n",
    "# Convert to NumPy array\n",
    "R = user_item_matrix.values\n",
    "user_means = np.mean(R, axis=1).reshape(-1, 1)\n",
    "R_demeaned = R - user_means\n",
    "# SVD\n",
    "U, sigma, Vt = svd(R_demeaned, full_matrices=False)\n",
    "sigma_diag_matrix = np.diag(sigma)\n",
    "# Reconstruct ratings with top k latent factors\n",
    "k = 15  # You can tune this\n",
    "R_pred = np.dot(np.dot(U[:, :k], sigma_diag_matrix[:k, :k]), Vt[:k, :]) + user_means\n",
    "\n",
    "# Step 6: Convert Predictions to DataFrame\n",
    "pred_df = pd.DataFrame(R_pred, index=user_item_matrix.index, columns=user_item_matrix.columns)\n",
    "pred_df.head()\n",
    "\n",
    "# Step 7: Evaluate with RMSE (only where actual ratings exist)\n",
    "from sklearn.metrics import mean_squared_error\n",
    "from math import sqrt\n",
    "actual = []\n",
    "predicted = []\n",
    "for i in range(user_item_matrix.shape[0]):\n",
    "    for j in range(user_item_matrix.shape[1]):\n",
    "        true_rating = user_item_matrix.iloc[i, j]\n",
    "        if true_rating > 0:  # Only consider non-zero ratings\n",
    "            pred_rating = pred_df.iloc[i, j]\n",
    "            actual.append(true_rating)\n",
    "            predicted.append(pred_rating)\n",
    "rmse = sqrt(mean_squared_error(actual, predicted))\n",
    "print(f\"RMSE on known ratings: {rmse:.4f}\")\n",
    "\n",
    "# Step 8: Recommend Top 5 Movies for Each User\n",
    "def get_top_recommendations(user_id, preds_df, original_df, n=5):\n",
    "    user_row = preds_df.loc[user_id]\n",
    "    already_rated = original_df.loc[user_id]\n",
    "    recommendations = user_row[already_rated == 0].sort_values(ascending=False).head(n)\n",
    "    return recommendations\n",
    "# Example: Recommend for user_5\n",
    "top_movies = get_top_recommendations('user_5', pred_df, user_item_matrix)\n",
    "print(\"Top recommendations for user_5:\")\n",
    "print(top_movies)"
   ]
  },
  {
   "cell_type": "code",
   "execution_count": null,
   "id": "d6364858-9c8c-423d-ba34-dca2f52058c5",
   "metadata": {},
   "outputs": [],
   "source": []
  }
 ],
 "metadata": {
  "kernelspec": {
   "display_name": "Python 3 (ipykernel)",
   "language": "python",
   "name": "python3"
  },
  "language_info": {
   "codemirror_mode": {
    "name": "ipython",
    "version": 3
   },
   "file_extension": ".py",
   "mimetype": "text/x-python",
   "name": "python",
   "nbconvert_exporter": "python",
   "pygments_lexer": "ipython3",
   "version": "3.11.4"
  }
 },
 "nbformat": 4,
 "nbformat_minor": 5
}
